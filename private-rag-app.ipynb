{
 "cells": [
  {
   "cell_type": "markdown",
   "metadata": {},
   "source": [
    "# Private RAG Application Implementation Using Llama 3.2, Ollama & PostgreSQL"
   ]
  },
  {
   "cell_type": "code",
   "execution_count": 1,
   "metadata": {},
   "outputs": [],
   "source": [
    "import psycopg2"
   ]
  },
  {
   "cell_type": "markdown",
   "metadata": {},
   "source": [
    "## Dataset Preparation"
   ]
  },
  {
   "cell_type": "code",
   "execution_count": 2,
   "metadata": {},
   "outputs": [],
   "source": [
    "# the knowledge base\n",
    "dummy_data = [\n",
    "    {\"title\": \"Seoul Tower\", \"content\": \"Seoul Tower is a communication and observation tower located on Namsan Mountain in central Seoul, South Korea.\"},\n",
    "    {\"title\": \"Gwanghwamun Gate\", \"content\": \"Gwanghwamun is the main and largest gate of Gyeongbokgung Palace, in Jongno-gu, Seoul, South Korea.\"},\n",
    "    {\"title\": \"Bukchon Hanok Village\", \"content\": \"Bukchon Hanok Village is a Korean traditional village in Seoul with a long history.\"},\n",
    "    {\"title\": \"Myeong-dong Shopping Street\", \"content\": \"Myeong-dong is one of the primary shopping districts in Seoul, South Korea.\"},\n",
    "    {\"title\": \"Dongdaemun Design Plaza\", \"content\": \"The Dongdaemun Design Plaza is a major urban development landmark in Seoul, South Korea.\"}\n",
    "]"
   ]
  },
  {
   "cell_type": "markdown",
   "metadata": {},
   "source": [
    "## Connect to the database"
   ]
  },
  {
   "cell_type": "code",
   "execution_count": 3,
   "metadata": {},
   "outputs": [],
   "source": [
    "def connect_db():\n",
    "    return psycopg2.connect( # use the credentials of your postgresql database \n",
    "        host = 'localhost',\n",
    "        database = 'postgres',\n",
    "        user = 'postgres',\n",
    "        password = 'password',\n",
    "        port = '5432'\n",
    "    )"
   ]
  },
  {
   "cell_type": "markdown",
   "metadata": {},
   "source": [
    "## Create the table"
   ]
  },
  {
   "cell_type": "code",
   "execution_count": 4,
   "metadata": {},
   "outputs": [],
   "source": [
    "conn = connect_db()\n",
    "cur = conn.cursor()\n",
    "cur.execute(\"\"\"\n",
    "        CREATE TABLE IF NOT EXISTS documents (\n",
    "            id SERIAL PRIMARY KEY,\n",
    "            title TEXT,\n",
    "            content TEXT,\n",
    "            embedding VECTOR(768)\n",
    "        );\n",
    "    \"\"\")\n",
    "conn.commit()\n",
    "cur.close()\n",
    "conn.close()"
   ]
  },
  {
   "cell_type": "markdown",
   "metadata": {},
   "source": [
    "### Insert the data and embeddings into the database"
   ]
  },
  {
   "cell_type": "code",
   "execution_count": 5,
   "metadata": {},
   "outputs": [],
   "source": [
    "conn = connect_db()\n",
    "cur = conn.cursor()\n",
    "\n",
    "# use the port at which your ollama service is running.\n",
    "for doc in dummy_data:\n",
    "    cur.execute(\"\"\"\n",
    "        INSERT INTO documents (title, content, embedding)\n",
    "        VALUES (\n",
    "            %(title)s,\n",
    "            %(content)s,\n",
    "            ollama_embed('nomic-embed-text', concat(%(title)s, ' - ', %(content)s), _host=>'http://172.17.0.2:11434')\n",
    "        )\n",
    "    \"\"\", doc)\n",
    "\n",
    "conn.commit()\n",
    "cur.close()\n",
    "conn.close()"
   ]
  },
  {
   "cell_type": "markdown",
   "metadata": {},
   "source": [
    "Safechecking the insert information in the database."
   ]
  },
  {
   "cell_type": "code",
   "execution_count": 6,
   "metadata": {},
   "outputs": [
    {
     "name": "stdout",
     "output_type": "stream",
     "text": [
      "Title: Seoul Tower, Content: Seoul Tower is a communication and observation tower located on Namsan Mountain in central Seoul, South Korea., Embedding Dimensions: 768\n",
      "Title: Gwanghwamun Gate, Content: Gwanghwamun is the main and largest gate of Gyeongbokgung Palace, in Jongno-gu, Seoul, South Korea., Embedding Dimensions: 768\n",
      "Title: Bukchon Hanok Village, Content: Bukchon Hanok Village is a Korean traditional village in Seoul with a long history., Embedding Dimensions: 768\n",
      "Title: Myeong-dong Shopping Street, Content: Myeong-dong is one of the primary shopping districts in Seoul, South Korea., Embedding Dimensions: 768\n",
      "Title: Dongdaemun Design Plaza, Content: The Dongdaemun Design Plaza is a major urban development landmark in Seoul, South Korea., Embedding Dimensions: 768\n",
      "Title: Seoul Tower, Content: Seoul Tower is a communication and observation tower located on Namsan Mountain in central Seoul, South Korea., Embedding Dimensions: 768\n",
      "Title: Gwanghwamun Gate, Content: Gwanghwamun is the main and largest gate of Gyeongbokgung Palace, in Jongno-gu, Seoul, South Korea., Embedding Dimensions: 768\n",
      "Title: Bukchon Hanok Village, Content: Bukchon Hanok Village is a Korean traditional village in Seoul with a long history., Embedding Dimensions: 768\n",
      "Title: Myeong-dong Shopping Street, Content: Myeong-dong is one of the primary shopping districts in Seoul, South Korea., Embedding Dimensions: 768\n",
      "Title: Dongdaemun Design Plaza, Content: The Dongdaemun Design Plaza is a major urban development landmark in Seoul, South Korea., Embedding Dimensions: 768\n"
     ]
    }
   ],
   "source": [
    "conn = connect_db()\n",
    "cur = conn.cursor()\n",
    "    \n",
    "cur.execute(\"\"\"\n",
    "    SELECT title, content, vector_dims(embedding) \n",
    "    FROM documents;\n",
    "\"\"\")\n",
    "\n",
    "rows = cur.fetchall()\n",
    "for row in rows:\n",
    "    print(f\"Title: {row[0]}, Content: {row[1]}, Embedding Dimensions: {row[2]}\")\n",
    "\n",
    "cur.close()\n",
    "conn.close()"
   ]
  },
  {
   "cell_type": "markdown",
   "metadata": {},
   "source": [
    "## Retrieval and Generation"
   ]
  },
  {
   "cell_type": "markdown",
   "metadata": {},
   "source": [
    "### Define the query and its embedding"
   ]
  },
  {
   "cell_type": "code",
   "execution_count": 7,
   "metadata": {},
   "outputs": [],
   "source": [
    "query = \"Tell me about gates in South Korea.\""
   ]
  },
  {
   "cell_type": "code",
   "execution_count": 8,
   "metadata": {},
   "outputs": [
    {
     "name": "stdout",
     "output_type": "stream",
     "text": [
      "Title: Gwanghwamun Gate\n",
      "Content: Gwanghwamun is the main and largest gate of Gyeongbokgung Palace, in Jongno-gu, Seoul, South Korea.\n",
      "\n",
      "Title: Gwanghwamun Gate\n",
      "Content: Gwanghwamun is the main and largest gate of Gyeongbokgung Palace, in Jongno-gu, Seoul, South Korea.\n",
      "\n",
      "Title: Dongdaemun Design Plaza\n",
      "Content: The Dongdaemun Design Plaza is a major urban development landmark in Seoul, South Korea.\n"
     ]
    }
   ],
   "source": [
    "conn = connect_db()\n",
    "cur = conn.cursor()\n",
    "    \n",
    "# Embed the query using the ollama_embed function\n",
    "cur.execute(\"\"\"\n",
    "    SELECT ollama_embed('nomic-embed-text', %s, _host=>'http://172.17.0.2:11434');\n",
    "\"\"\", (query,))\n",
    "query_embedding = cur.fetchone()[0]\n",
    "\n",
    "# Retrieve relevant documents based on cosine distance\n",
    "cur.execute(\"\"\"\n",
    "    SELECT title, content, 1 - (embedding <=> %s) AS similarity\n",
    "    FROM documents\n",
    "    ORDER BY similarity DESC\n",
    "    LIMIT 3;\n",
    "\"\"\", (query_embedding,))\n",
    "\n",
    "rows = cur.fetchall()\n",
    "    \n",
    "# Prepare the context for generating the response\n",
    "context = \"\\n\\n\".join([f\"Title: {row[0]}\\nContent: {row[1]}\" for row in rows])\n",
    "print(context)\n",
    "\n",
    "cur.close()\n",
    "conn.close()"
   ]
  },
  {
   "cell_type": "code",
   "execution_count": 9,
   "metadata": {},
   "outputs": [
    {
     "name": "stdout",
     "output_type": "stream",
     "text": [
      "Gates in South Korea play an essential role in the country's rich history and cultural heritage. Here are some interesting facts about gates in South Korea:\n",
      "\n",
      "1. Historical significance: Gates have been an integral part of Korean palace architecture for centuries, serving as entrance points to royal palaces, fortresses, and other important buildings.\n",
      "2. Gwanghwamun Gate: The Gwanghwamun Gate is one of the most iconic gates in South Korea, located at Gyeongbokgung Palace in Seoul. It is considered a symbol of Korean culture and heritage, representing the country's rich history and traditions.\n",
      "\n",
      "3. Architectural style: Traditional Korean gates were often designed with a distinctive shape, featuring a curved or arched roof, wooden posts, and decorative carvings. The Gwanghwamun Gate is a prime example of this architectural style.\n",
      "\n",
      "4. Modern gates: In recent years, modern gates have become an integral part of South Korea's urban landscape. The Dongdaemun Design Plaza in Seoul is a notable example, showcasing cutting-edge architecture and innovative design.\n",
      "\n",
      "5. Cultural significance: Gates often played a significant role in Korean culture, serving as gathering points for people to share news, gossip, and ideas. In modern times, gates continue to hold cultural significance, representing the country's history and traditions.\n",
      "\n",
      "In conclusion, gates in South Korea are an important part of the country's rich cultural heritage, reflecting its history, architecture, and traditions. From traditional palace gates to modern urban landmarks, gates play a significant role in shaping the nation's identity.\n"
     ]
    }
   ],
   "source": [
    "conn = connect_db()\n",
    "cur = conn.cursor()\n",
    "\n",
    "# Generate the response using the ollama_generate function\n",
    "cur.execute(\"\"\"\n",
    "    SELECT ollama_generate('llama3.2', %s, _host=>'http://172.17.0.2:11434');\n",
    "\"\"\", (f\"Query: {query}\\nContext: {context}\",))\n",
    "    \n",
    "model_response = cur.fetchone()[0]\n",
    "print(model_response['response'])\n",
    "    \n",
    "cur.close()\n",
    "conn.close()"
   ]
  },
  {
   "cell_type": "code",
   "execution_count": null,
   "metadata": {},
   "outputs": [],
   "source": []
  }
 ],
 "metadata": {
  "kernelspec": {
   "display_name": ".venv",
   "language": "python",
   "name": "python3"
  },
  "language_info": {
   "codemirror_mode": {
    "name": "ipython",
    "version": 3
   },
   "file_extension": ".py",
   "mimetype": "text/x-python",
   "name": "python",
   "nbconvert_exporter": "python",
   "pygments_lexer": "ipython3",
   "version": "3.12.3"
  }
 },
 "nbformat": 4,
 "nbformat_minor": 2
}
